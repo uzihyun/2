{
 "cells": [
  {
   "cell_type": "markdown",
   "id": "894adf96-65d5-408f-9446-32dbd8b929f7",
   "metadata": {},
   "source": [
    "# OOP (2024 Fall) HW1: 불변 순서쌍을 활용해 가변 순서쌍 만들기 \n",
    "- 이름: 유지현\n",
    "- 학번: 20222281\n",
    "\n",
    "여기 홍길동, 99999999 대신 본인의 이름, 학번 작성"
   ]
  },
  {
   "cell_type": "markdown",
   "id": "da1dd118-a3e0-474e-8f32-a3942e22a9c8",
   "metadata": {},
   "source": [
    "-----\n",
    "## Part A: 불변 순서쌍 Pair\n",
    "1. 클래스(또는 정적) 팩토리 메소드 `of`를 를 수정하여 완성하라.\n",
    "    - https://velog.io/@cjh8746/%EC%A0%95%EC%A0%81-%ED%8C%A9%ED%86%A0%EB%A6%AC-%EB%A9%94%EC%84%9C%EB%93%9CStatic-Factory-Method\n",
    "1. 주석 부분을 풀어 제너릭 클래스인 `Pair`가 제너릭 인터페이스 `Comparable`를 구현하도록 완성하라.\n",
    "    - https://docs.oracle.com/en/java/javase/22/docs/api/java.base/java/lang/Comparable.html"
   ]
  },
  {
   "cell_type": "code",
   "execution_count": 2,
   "id": "c3ff4c92-fffa-49a4-af80-93fafe145639",
   "metadata": {},
   "outputs": [],
   "source": [
    "record Pair<F extends Comparable<F>, S extends Comparable<S>>(F first, S second) implements Comparable<Pair<F, S>>  /* implements Comparable< ... > */ {\n",
    "    \n",
    "    // 아래 팩토리 메소드 of가 컴파일되지 않고 있으니 컴파일되도록 수정하라 (힌트: 제너릭 메소드)\n",
    "    static <F extends Comparable<F>, S extends Comparable<S>> Pair<F, S> of(F first, S second) {\n",
    "        return new Pair<>(first, second);\n",
    "    }\n",
    "    \n",
    "    // 사전순이 되도록 정의하기. 즉 first가 더 큰 쪽이 더 크고, first가 같으면 second를 비교\n",
    "    @Override\n",
    "    public int compareTo(Pair<F, S> other) {\n",
    "        int firstCompare = this.first.compareTo(other.first);\n",
    "        if (firstCompare != 0) {\n",
    "            return firstCompare;\n",
    "        }\n",
    "        return this.second.compareTo(other.second);\n",
    "    }\n",
    "}"
   ]
  },
  {
   "cell_type": "code",
   "execution_count": 9,
   "id": "9590093d-be41-4d8a-8247-79e3619f84de",
   "metadata": {},
   "outputs": [
    {
     "name": "stdout",
     "output_type": "stream",
     "text": [
      "1\n",
      "-1\n",
      "0\n",
      "1\n"
     ]
    }
   ],
   "source": [
    "/* compareTo 가 잘 동작하는지\n",
    "   - 왼쪽이 더 큰 경우\n",
    "   - 왼쪽이 더 작은 경우\n",
    "   - 같은 경우\n",
    "   이런 경우를 각각 포함하도록 이렇게 최소 3개 이상의 테스트를 실행해 보라\n",
    "*/\n",
    "// 왼쪽 값이 더 큰 경우\n",
    "Pair<Integer, String> pair1 = Pair.of(3, \"apple\");\n",
    "Pair<Integer, String> pair2 = Pair.of(1, \"banana\");\n",
    "\n",
    "// 왼쪽 값이 더 작은 경우\n",
    "Pair<Integer, String> pair3 = Pair.of(2, \"orange\");\n",
    "Pair<Integer, String> pair4 = Pair.of(5, \"grape\");\n",
    "\n",
    "// 값이 같은 경우\n",
    "Pair<Integer, String> pair5 = Pair.of(4, \"mango\");\n",
    "Pair<Integer, String> pair6 = Pair.of(4, \"mango\");\n",
    "\n",
    "// 서로 다른 타입 (Integer, Double)\n",
    "Pair<Integer, Double> pair11 = Pair.of(4, 5.5);\n",
    "Pair<Integer, Double> pair12 = Pair.of(4, 3.14);\n",
    "\n",
    "\n",
    "// 대략 이런 식으로 테스트 실행\n",
    "System.out.println(pair1.compareTo(pair2)); // 결과는 양수 (3 > 1)\n",
    "System.out.println(pair3.compareTo(pair4)); // 결과는 음수 (2 < 5)\n",
    "System.out.println(pair5.compareTo(pair6));\n",
    "System.out.println(pair11.compareTo(pair12)); // 결과는 양수 (5.5 > 3.14)\n",
    "// System.out.println( ??.compareTo(??) );\n",
    "// System.out.println( ??.compareTo(??) );\n",
    "// System.out.println( ??.compareTo(??) );"
   ]
  },
  {
   "cell_type": "code",
   "execution_count": 12,
   "id": "855c44b2-249f-403b-9517-30bedf334d33",
   "metadata": {},
   "outputs": [],
   "source": [
    "class ModifiablePair<F extends Comparable<F>, S extends Comparable<S>> implements Comparable<ModifiablePair<F, S>> /* implements Comparable< ... > */ {\n",
    "    private Pair<F,S> pair; // 이 field 말고 다른 field는 추가로 정의하지 말 것!\n",
    "\n",
    "    ModifiablePair(F first, S second) {\n",
    "        this.pair = new Pair<>(first, second);\n",
    "    }\n",
    "    \n",
    "    // getter들은 pair에게 위임(delegate)하는 방식으로 작성하라\n",
    "    public F first() {\n",
    "        return pair.first();\n",
    "    }\n",
    "    public S second() {\n",
    "        return pair.second();\n",
    "    }\n",
    "    \n",
    "    // setter들은 적절히 정의하라\n",
    "    public void setFirst(F first) {\n",
    "        this.pair = new Pair<>(first, this.pair.second());\n",
    "    }\n",
    "    public void setSecond(S second) {\n",
    "        this.pair = new Pair<>(this.pair.first(), second);\n",
    "    }\n",
    "\n",
    "    \n",
    "    // compareTo는 pair에게 위임(delegate)하는 방식으로 작성하라\n",
    "    @Override\n",
    "    public int compareTo(ModifiablePair<F, S> other) {\n",
    "        return this.pair.compareTo(other.pair);\n",
    "    }\n",
    "    \n",
    "\n",
    "    @Override\n",
    "    public String toString() { \n",
    "        return pair.toString(); // toString은 그냥 pair에게 위임\n",
    "    }\n",
    "}"
   ]
  },
  {
   "cell_type": "code",
   "execution_count": 15,
   "id": "c1bea09e-dd71-4070-bab5-46390de387d6",
   "metadata": {},
   "outputs": [
    {
     "name": "stdout",
     "output_type": "stream",
     "text": [
      "Initial values: \n",
      "First: 1\n",
      "Second: apple\n",
      "\n",
      "After setting first to 5: \n",
      "First: 5\n",
      "Second: apple\n",
      "\n",
      "After setting second to 'orange': \n",
      "First: 5\n",
      "Second: orange\n",
      "\n",
      "Comparing pair with pair2: \n",
      "13\n",
      "\n",
      "Pair toString: \n",
      "Pair[first=5, second=orange]\n"
     ]
    }
   ],
   "source": [
    "// ModifiablePair<F,S>의 getter와 setter들이 잘 동작하는지 확인할 수 있는 적절한 테스트 코드 작성하여 실행하라.\n",
    "// 그러니까 `first()`, `second()`, `setFrist(F)`, `setSecond(S)` 메소드를 모두 활용하는 예시 코드를 작성해 실행하라는 말이다.\n",
    "\n",
    "// ModifiablePair 생성\n",
    "ModifiablePair<Integer, String> pair = new ModifiablePair<>(1, \"apple\");\n",
    "\n",
    "// 초기 값 확인\n",
    "System.out.println(\"Initial values: \");\n",
    "System.out.println(\"First: \" + pair.first());   // 출력: First: 1\n",
    "System.out.println(\"Second: \" + pair.second()); // 출력: Second: apple\n",
    "\n",
    "// First 값 수정\n",
    "pair.setFirst(5);\n",
    "System.out.println(\"\\nAfter setting first to 5: \");\n",
    "System.out.println(\"First: \" + pair.first());   // 출력: First: 5\n",
    "System.out.println(\"Second: \" + pair.second()); // 출력: Second: apple\n",
    "\n",
    "// Second 값 수정\n",
    "pair.setSecond(\"orange\");\n",
    "System.out.println(\"\\nAfter setting second to 'orange': \");\n",
    "System.out.println(\"First: \" + pair.first());   // 출력: First: 5\n",
    "System.out.println(\"Second: \" + pair.second()); // 출력: Second: orange\n",
    "\n",
    "// 두 ModifiablePair 객체 비교\n",
    "ModifiablePair<Integer, String> pair2 = new ModifiablePair<>(5, \"banana\");\n",
    "System.out.println(\"\\nComparing pair with pair2: \");\n",
    "System.out.println(pair.compareTo(pair2)); // pair의 second가 \"orange\"이고 pair2는 \"banana\"이므로 양수\n",
    "\n",
    "// toString 테스트\n",
    "System.out.println(\"\\nPair toString: \");\n",
    "System.out.println(pair); // 출력: Pair(5, orange)\n"
   ]
  },
  {
   "cell_type": "code",
   "execution_count": null,
   "id": "4d9fa815-bb81-402f-b513-275f5f6cb424",
   "metadata": {},
   "outputs": [],
   "source": []
  }
 ],
 "metadata": {
  "kernelspec": {
   "display_name": "Java (rjk 2.1.0)",
   "language": "java",
   "name": "rapaio-jupyter-kernel"
  },
  "language_info": {
   "codemirror_mode": "java",
   "file_extension": ".jshell",
   "mimetype": "text/x-java-source",
   "name": "java",
   "nbconvert_exporter": "script",
   "pygments_lexer": "java",
   "version": "22.0.2+9"
  }
 },
 "nbformat": 4,
 "nbformat_minor": 5
}
